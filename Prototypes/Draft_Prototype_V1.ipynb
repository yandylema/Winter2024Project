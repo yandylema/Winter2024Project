{
  "nbformat": 4,
  "nbformat_minor": 0,
  "metadata": {
    "colab": {
      "provenance": [],
      "mount_file_id": "1Gji6J81_EcwrjWjSNX_BHAxt4dnkV4zT",
      "authorship_tag": "ABX9TyMFbG3hxjxpBLpkD3/xvtQs",
      "include_colab_link": true
    },
    "kernelspec": {
      "name": "python3",
      "display_name": "Python 3"
    },
    "language_info": {
      "name": "python"
    }
  },
  "cells": [
    {
      "cell_type": "markdown",
      "metadata": {
        "id": "view-in-github",
        "colab_type": "text"
      },
      "source": [
        "<a href=\"https://colab.research.google.com/github/yandylema/Winter2024Project/blob/main/Draft_Prototype_V1.ipynb\" target=\"_parent\"><img src=\"https://colab.research.google.com/assets/colab-badge.svg\" alt=\"Open In Colab\"/></a>"
      ]
    },
    {
      "cell_type": "code",
      "source": [
        "# Run this code once and you should be fine. Install these packages some other way if you're not using Colab (i.e. use a terminal).\n",
        "!pip install scikit-learn\n",
        "!pip install pandas\n"
      ],
      "metadata": {
        "colab": {
          "base_uri": "https://localhost:8080/"
        },
        "id": "WP9Re5bpjfbm",
        "outputId": "8def4645-a2af-4372-8f79-6e4b65bcdf93"
      },
      "execution_count": 1,
      "outputs": [
        {
          "output_type": "stream",
          "name": "stdout",
          "text": [
            "Requirement already satisfied: scikit-learn in /usr/local/lib/python3.10/dist-packages (1.2.2)\n",
            "Requirement already satisfied: numpy>=1.17.3 in /usr/local/lib/python3.10/dist-packages (from scikit-learn) (1.23.5)\n",
            "Requirement already satisfied: scipy>=1.3.2 in /usr/local/lib/python3.10/dist-packages (from scikit-learn) (1.11.4)\n",
            "Requirement already satisfied: joblib>=1.1.1 in /usr/local/lib/python3.10/dist-packages (from scikit-learn) (1.3.2)\n",
            "Requirement already satisfied: threadpoolctl>=2.0.0 in /usr/local/lib/python3.10/dist-packages (from scikit-learn) (3.2.0)\n",
            "Requirement already satisfied: pandas in /usr/local/lib/python3.10/dist-packages (1.5.3)\n",
            "Requirement already satisfied: python-dateutil>=2.8.1 in /usr/local/lib/python3.10/dist-packages (from pandas) (2.8.2)\n",
            "Requirement already satisfied: pytz>=2020.1 in /usr/local/lib/python3.10/dist-packages (from pandas) (2023.3.post1)\n",
            "Requirement already satisfied: numpy>=1.21.0 in /usr/local/lib/python3.10/dist-packages (from pandas) (1.23.5)\n",
            "Requirement already satisfied: six>=1.5 in /usr/local/lib/python3.10/dist-packages (from python-dateutil>=2.8.1->pandas) (1.16.0)\n"
          ]
        }
      ]
    },
    {
      "cell_type": "code",
      "execution_count": 2,
      "metadata": {
        "id": "NLKtvSACjRmG"
      },
      "outputs": [],
      "source": [
        "from sklearn.linear_model import Perceptron\n",
        "import pandas as pd\n",
        "from sklearn.model_selection import train_test_split\n",
        "from sklearn.metrics import accuracy_score\n",
        "import numpy as np"
      ]
    },
    {
      "cell_type": "code",
      "source": [
        "from google.colab import drive\n",
        "drive.mount('/content/drive')"
      ],
      "metadata": {
        "colab": {
          "base_uri": "https://localhost:8080/"
        },
        "id": "klWoVK6iVktL",
        "outputId": "0d439a0e-ee48-44cd-8f77-0c41d61d640a"
      },
      "execution_count": 3,
      "outputs": [
        {
          "output_type": "stream",
          "name": "stdout",
          "text": [
            "Drive already mounted at /content/drive; to attempt to forcibly remount, call drive.mount(\"/content/drive\", force_remount=True).\n"
          ]
        }
      ]
    },
    {
      "cell_type": "code",
      "source": [
        "data = pd.read_excel('/content/drive/MyDrive/Colab Notebooks/NBA/Prototype/DraftedPlayers2009-2021.xlsx')\n",
        "data.head()"
      ],
      "metadata": {
        "id": "MbejoSXJj0QX",
        "colab": {
          "base_uri": "https://localhost:8080/",
          "height": 206
        },
        "outputId": "f2c6d2a2-f658-4101-a4ac-a348a441d5fc"
      },
      "execution_count": 5,
      "outputs": [
        {
          "output_type": "execute_result",
          "data": {
            "text/plain": [
              "            PLAYER                 TEAM          AFFILIATION    YEAR   ROUND  \\\n",
              "0              NaN                  NaN                  NaN     NaN  NUMBER   \n",
              "1  Cade Cunningham      Detroit Pistons       Oklahoma State  2021.0       1   \n",
              "2      Jalen Green      Houston Rockets    Ignite (G League)  2021.0       1   \n",
              "3      Evan Mobley  Cleveland Cavaliers  Southern California  2021.0       1   \n",
              "4   Scottie Barnes      Toronto Raptors        Florida State  2021.0       1   \n",
              "\n",
              "  ROUND.1 OVERALL  \n",
              "0    PICK    PICK  \n",
              "1       1       1  \n",
              "2       2       2  \n",
              "3       3       3  \n",
              "4       4       4  "
            ],
            "text/html": [
              "\n",
              "  <div id=\"df-324c0218-1a50-4a71-88e3-5145e0097987\" class=\"colab-df-container\">\n",
              "    <div>\n",
              "<style scoped>\n",
              "    .dataframe tbody tr th:only-of-type {\n",
              "        vertical-align: middle;\n",
              "    }\n",
              "\n",
              "    .dataframe tbody tr th {\n",
              "        vertical-align: top;\n",
              "    }\n",
              "\n",
              "    .dataframe thead th {\n",
              "        text-align: right;\n",
              "    }\n",
              "</style>\n",
              "<table border=\"1\" class=\"dataframe\">\n",
              "  <thead>\n",
              "    <tr style=\"text-align: right;\">\n",
              "      <th></th>\n",
              "      <th>PLAYER</th>\n",
              "      <th>TEAM</th>\n",
              "      <th>AFFILIATION</th>\n",
              "      <th>YEAR</th>\n",
              "      <th>ROUND</th>\n",
              "      <th>ROUND.1</th>\n",
              "      <th>OVERALL</th>\n",
              "    </tr>\n",
              "  </thead>\n",
              "  <tbody>\n",
              "    <tr>\n",
              "      <th>0</th>\n",
              "      <td>NaN</td>\n",
              "      <td>NaN</td>\n",
              "      <td>NaN</td>\n",
              "      <td>NaN</td>\n",
              "      <td>NUMBER</td>\n",
              "      <td>PICK</td>\n",
              "      <td>PICK</td>\n",
              "    </tr>\n",
              "    <tr>\n",
              "      <th>1</th>\n",
              "      <td>Cade Cunningham</td>\n",
              "      <td>Detroit Pistons</td>\n",
              "      <td>Oklahoma State</td>\n",
              "      <td>2021.0</td>\n",
              "      <td>1</td>\n",
              "      <td>1</td>\n",
              "      <td>1</td>\n",
              "    </tr>\n",
              "    <tr>\n",
              "      <th>2</th>\n",
              "      <td>Jalen Green</td>\n",
              "      <td>Houston Rockets</td>\n",
              "      <td>Ignite (G League)</td>\n",
              "      <td>2021.0</td>\n",
              "      <td>1</td>\n",
              "      <td>2</td>\n",
              "      <td>2</td>\n",
              "    </tr>\n",
              "    <tr>\n",
              "      <th>3</th>\n",
              "      <td>Evan Mobley</td>\n",
              "      <td>Cleveland Cavaliers</td>\n",
              "      <td>Southern California</td>\n",
              "      <td>2021.0</td>\n",
              "      <td>1</td>\n",
              "      <td>3</td>\n",
              "      <td>3</td>\n",
              "    </tr>\n",
              "    <tr>\n",
              "      <th>4</th>\n",
              "      <td>Scottie Barnes</td>\n",
              "      <td>Toronto Raptors</td>\n",
              "      <td>Florida State</td>\n",
              "      <td>2021.0</td>\n",
              "      <td>1</td>\n",
              "      <td>4</td>\n",
              "      <td>4</td>\n",
              "    </tr>\n",
              "  </tbody>\n",
              "</table>\n",
              "</div>\n",
              "    <div class=\"colab-df-buttons\">\n",
              "\n",
              "  <div class=\"colab-df-container\">\n",
              "    <button class=\"colab-df-convert\" onclick=\"convertToInteractive('df-324c0218-1a50-4a71-88e3-5145e0097987')\"\n",
              "            title=\"Convert this dataframe to an interactive table.\"\n",
              "            style=\"display:none;\">\n",
              "\n",
              "  <svg xmlns=\"http://www.w3.org/2000/svg\" height=\"24px\" viewBox=\"0 -960 960 960\">\n",
              "    <path d=\"M120-120v-720h720v720H120Zm60-500h600v-160H180v160Zm220 220h160v-160H400v160Zm0 220h160v-160H400v160ZM180-400h160v-160H180v160Zm440 0h160v-160H620v160ZM180-180h160v-160H180v160Zm440 0h160v-160H620v160Z\"/>\n",
              "  </svg>\n",
              "    </button>\n",
              "\n",
              "  <style>\n",
              "    .colab-df-container {\n",
              "      display:flex;\n",
              "      gap: 12px;\n",
              "    }\n",
              "\n",
              "    .colab-df-convert {\n",
              "      background-color: #E8F0FE;\n",
              "      border: none;\n",
              "      border-radius: 50%;\n",
              "      cursor: pointer;\n",
              "      display: none;\n",
              "      fill: #1967D2;\n",
              "      height: 32px;\n",
              "      padding: 0 0 0 0;\n",
              "      width: 32px;\n",
              "    }\n",
              "\n",
              "    .colab-df-convert:hover {\n",
              "      background-color: #E2EBFA;\n",
              "      box-shadow: 0px 1px 2px rgba(60, 64, 67, 0.3), 0px 1px 3px 1px rgba(60, 64, 67, 0.15);\n",
              "      fill: #174EA6;\n",
              "    }\n",
              "\n",
              "    .colab-df-buttons div {\n",
              "      margin-bottom: 4px;\n",
              "    }\n",
              "\n",
              "    [theme=dark] .colab-df-convert {\n",
              "      background-color: #3B4455;\n",
              "      fill: #D2E3FC;\n",
              "    }\n",
              "\n",
              "    [theme=dark] .colab-df-convert:hover {\n",
              "      background-color: #434B5C;\n",
              "      box-shadow: 0px 1px 3px 1px rgba(0, 0, 0, 0.15);\n",
              "      filter: drop-shadow(0px 1px 2px rgba(0, 0, 0, 0.3));\n",
              "      fill: #FFFFFF;\n",
              "    }\n",
              "  </style>\n",
              "\n",
              "    <script>\n",
              "      const buttonEl =\n",
              "        document.querySelector('#df-324c0218-1a50-4a71-88e3-5145e0097987 button.colab-df-convert');\n",
              "      buttonEl.style.display =\n",
              "        google.colab.kernel.accessAllowed ? 'block' : 'none';\n",
              "\n",
              "      async function convertToInteractive(key) {\n",
              "        const element = document.querySelector('#df-324c0218-1a50-4a71-88e3-5145e0097987');\n",
              "        const dataTable =\n",
              "          await google.colab.kernel.invokeFunction('convertToInteractive',\n",
              "                                                    [key], {});\n",
              "        if (!dataTable) return;\n",
              "\n",
              "        const docLinkHtml = 'Like what you see? Visit the ' +\n",
              "          '<a target=\"_blank\" href=https://colab.research.google.com/notebooks/data_table.ipynb>data table notebook</a>'\n",
              "          + ' to learn more about interactive tables.';\n",
              "        element.innerHTML = '';\n",
              "        dataTable['output_type'] = 'display_data';\n",
              "        await google.colab.output.renderOutput(dataTable, element);\n",
              "        const docLink = document.createElement('div');\n",
              "        docLink.innerHTML = docLinkHtml;\n",
              "        element.appendChild(docLink);\n",
              "      }\n",
              "    </script>\n",
              "  </div>\n",
              "\n",
              "\n",
              "<div id=\"df-dc2f591f-12d1-4a83-8cf8-f682ee9935b9\">\n",
              "  <button class=\"colab-df-quickchart\" onclick=\"quickchart('df-dc2f591f-12d1-4a83-8cf8-f682ee9935b9')\"\n",
              "            title=\"Suggest charts\"\n",
              "            style=\"display:none;\">\n",
              "\n",
              "<svg xmlns=\"http://www.w3.org/2000/svg\" height=\"24px\"viewBox=\"0 0 24 24\"\n",
              "     width=\"24px\">\n",
              "    <g>\n",
              "        <path d=\"M19 3H5c-1.1 0-2 .9-2 2v14c0 1.1.9 2 2 2h14c1.1 0 2-.9 2-2V5c0-1.1-.9-2-2-2zM9 17H7v-7h2v7zm4 0h-2V7h2v10zm4 0h-2v-4h2v4z\"/>\n",
              "    </g>\n",
              "</svg>\n",
              "  </button>\n",
              "\n",
              "<style>\n",
              "  .colab-df-quickchart {\n",
              "      --bg-color: #E8F0FE;\n",
              "      --fill-color: #1967D2;\n",
              "      --hover-bg-color: #E2EBFA;\n",
              "      --hover-fill-color: #174EA6;\n",
              "      --disabled-fill-color: #AAA;\n",
              "      --disabled-bg-color: #DDD;\n",
              "  }\n",
              "\n",
              "  [theme=dark] .colab-df-quickchart {\n",
              "      --bg-color: #3B4455;\n",
              "      --fill-color: #D2E3FC;\n",
              "      --hover-bg-color: #434B5C;\n",
              "      --hover-fill-color: #FFFFFF;\n",
              "      --disabled-bg-color: #3B4455;\n",
              "      --disabled-fill-color: #666;\n",
              "  }\n",
              "\n",
              "  .colab-df-quickchart {\n",
              "    background-color: var(--bg-color);\n",
              "    border: none;\n",
              "    border-radius: 50%;\n",
              "    cursor: pointer;\n",
              "    display: none;\n",
              "    fill: var(--fill-color);\n",
              "    height: 32px;\n",
              "    padding: 0;\n",
              "    width: 32px;\n",
              "  }\n",
              "\n",
              "  .colab-df-quickchart:hover {\n",
              "    background-color: var(--hover-bg-color);\n",
              "    box-shadow: 0 1px 2px rgba(60, 64, 67, 0.3), 0 1px 3px 1px rgba(60, 64, 67, 0.15);\n",
              "    fill: var(--button-hover-fill-color);\n",
              "  }\n",
              "\n",
              "  .colab-df-quickchart-complete:disabled,\n",
              "  .colab-df-quickchart-complete:disabled:hover {\n",
              "    background-color: var(--disabled-bg-color);\n",
              "    fill: var(--disabled-fill-color);\n",
              "    box-shadow: none;\n",
              "  }\n",
              "\n",
              "  .colab-df-spinner {\n",
              "    border: 2px solid var(--fill-color);\n",
              "    border-color: transparent;\n",
              "    border-bottom-color: var(--fill-color);\n",
              "    animation:\n",
              "      spin 1s steps(1) infinite;\n",
              "  }\n",
              "\n",
              "  @keyframes spin {\n",
              "    0% {\n",
              "      border-color: transparent;\n",
              "      border-bottom-color: var(--fill-color);\n",
              "      border-left-color: var(--fill-color);\n",
              "    }\n",
              "    20% {\n",
              "      border-color: transparent;\n",
              "      border-left-color: var(--fill-color);\n",
              "      border-top-color: var(--fill-color);\n",
              "    }\n",
              "    30% {\n",
              "      border-color: transparent;\n",
              "      border-left-color: var(--fill-color);\n",
              "      border-top-color: var(--fill-color);\n",
              "      border-right-color: var(--fill-color);\n",
              "    }\n",
              "    40% {\n",
              "      border-color: transparent;\n",
              "      border-right-color: var(--fill-color);\n",
              "      border-top-color: var(--fill-color);\n",
              "    }\n",
              "    60% {\n",
              "      border-color: transparent;\n",
              "      border-right-color: var(--fill-color);\n",
              "    }\n",
              "    80% {\n",
              "      border-color: transparent;\n",
              "      border-right-color: var(--fill-color);\n",
              "      border-bottom-color: var(--fill-color);\n",
              "    }\n",
              "    90% {\n",
              "      border-color: transparent;\n",
              "      border-bottom-color: var(--fill-color);\n",
              "    }\n",
              "  }\n",
              "</style>\n",
              "\n",
              "  <script>\n",
              "    async function quickchart(key) {\n",
              "      const quickchartButtonEl =\n",
              "        document.querySelector('#' + key + ' button');\n",
              "      quickchartButtonEl.disabled = true;  // To prevent multiple clicks.\n",
              "      quickchartButtonEl.classList.add('colab-df-spinner');\n",
              "      try {\n",
              "        const charts = await google.colab.kernel.invokeFunction(\n",
              "            'suggestCharts', [key], {});\n",
              "      } catch (error) {\n",
              "        console.error('Error during call to suggestCharts:', error);\n",
              "      }\n",
              "      quickchartButtonEl.classList.remove('colab-df-spinner');\n",
              "      quickchartButtonEl.classList.add('colab-df-quickchart-complete');\n",
              "    }\n",
              "    (() => {\n",
              "      let quickchartButtonEl =\n",
              "        document.querySelector('#df-dc2f591f-12d1-4a83-8cf8-f682ee9935b9 button');\n",
              "      quickchartButtonEl.style.display =\n",
              "        google.colab.kernel.accessAllowed ? 'block' : 'none';\n",
              "    })();\n",
              "  </script>\n",
              "</div>\n",
              "    </div>\n",
              "  </div>\n"
            ]
          },
          "metadata": {},
          "execution_count": 5
        }
      ]
    },
    {
      "cell_type": "code",
      "source": [
        "model = Perceptron()"
      ],
      "metadata": {
        "id": "PEaRtAIujaTc"
      },
      "execution_count": 5,
      "outputs": []
    },
    {
      "cell_type": "code",
      "source": [
        "print(data['PLAYER'])"
      ],
      "metadata": {
        "colab": {
          "base_uri": "https://localhost:8080/"
        },
        "id": "SkmswDdKWhnp",
        "outputId": "7d38ce03-97e0-4f26-d330-41000eb92206"
      },
      "execution_count": 7,
      "outputs": [
        {
          "output_type": "stream",
          "name": "stdout",
          "text": [
            "0                  NaN\n",
            "1      Cade Cunningham\n",
            "2          Jalen Green\n",
            "3          Evan Mobley\n",
            "4       Scottie Barnes\n",
            "            ...       \n",
            "776       Ahmad Nivins\n",
            "777      Emir Preldzic\n",
            "778      Lester Hudson\n",
            "779    Chinemelu Elonu\n",
            "780      Robert Dozier\n",
            "Name: PLAYER, Length: 781, dtype: object\n"
          ]
        }
      ]
    },
    {
      "cell_type": "markdown",
      "source": [
        "**START**"
      ],
      "metadata": {
        "id": "8B7klV-x7UTw"
      }
    },
    {
      "cell_type": "code",
      "source": [
        "fulldata = pd.read_csv('/content/drive/MyDrive/Colab Notebooks/NBA/Prototype/CollegeBasketballPlayers2009-2021.csv')\n",
        "fulldata.head()"
      ],
      "metadata": {
        "colab": {
          "base_uri": "https://localhost:8080/",
          "height": 341
        },
        "id": "nRuAjQNn6voE",
        "outputId": "696a1119-b284-4c67-a544-b70e06bad393"
      },
      "execution_count": 32,
      "outputs": [
        {
          "output_type": "stream",
          "name": "stderr",
          "text": [
            "<ipython-input-32-494a1a89a014>:1: DtypeWarning: Columns (27) have mixed types. Specify dtype option on import or set low_memory=False.\n",
            "  fulldata = pd.read_csv('/content/drive/MyDrive/Colab Notebooks/NBA/Prototype/CollegeBasketballPlayers2009-2021.csv')\n"
          ]
        },
        {
          "output_type": "execute_result",
          "data": {
            "text/plain": [
              "       player_name           team conf  GP  Min_per   Ortg   usg   eFG  \\\n",
              "0    DeAndrae Ross  South Alabama   SB  26     29.5   97.3  16.6  42.5   \n",
              "1    Pooh Williams       Utah St.  WAC  34     60.9  108.3  14.9  52.4   \n",
              "2    Jesus Verdejo  South Florida   BE  27     72.0   96.2  21.8  45.7   \n",
              "3  Mike Hornbuckle     Pepperdine  WCC  30     44.5   97.7  16.0  53.6   \n",
              "4    Anthony Brown        Pacific   BW  33     56.2   96.5  22.0  52.8   \n",
              "\n",
              "   TS_per  ORB_per  ...     dgbpm    oreb    dreb    treb     ast     stl  \\\n",
              "0   44.43      1.6  ... -1.941150  0.1923  0.6154  0.8077  1.1923  0.3462   \n",
              "1   54.48      3.8  ... -0.247934  0.6765  1.2647  1.9412  1.8235  0.4118   \n",
              "2   47.98      2.1  ... -0.883163  0.6296  2.3333  2.9630  1.9630  0.4815   \n",
              "3   53.69      4.1  ... -0.393459  0.7000  1.4333  2.1333  1.1000  0.5667   \n",
              "4   54.31      8.3  ... -0.668318  1.4242  3.3030  4.7273  0.8485  0.4545   \n",
              "\n",
              "      blk      pts  Unnamed: 64  Unnamed: 65  \n",
              "0  0.0385   3.8846          NaN      6.22026  \n",
              "1  0.2353   5.9412          NaN      3.94375  \n",
              "2  0.0000  12.1852          NaN     10.92680  \n",
              "3  0.1333   4.9333          NaN      6.77427  \n",
              "4  0.3333   7.5758          NaN      0.00000  \n",
              "\n",
              "[5 rows x 66 columns]"
            ],
            "text/html": [
              "\n",
              "  <div id=\"df-639c07f6-9364-44c6-b3f0-148ce5124b8a\" class=\"colab-df-container\">\n",
              "    <div>\n",
              "<style scoped>\n",
              "    .dataframe tbody tr th:only-of-type {\n",
              "        vertical-align: middle;\n",
              "    }\n",
              "\n",
              "    .dataframe tbody tr th {\n",
              "        vertical-align: top;\n",
              "    }\n",
              "\n",
              "    .dataframe thead th {\n",
              "        text-align: right;\n",
              "    }\n",
              "</style>\n",
              "<table border=\"1\" class=\"dataframe\">\n",
              "  <thead>\n",
              "    <tr style=\"text-align: right;\">\n",
              "      <th></th>\n",
              "      <th>player_name</th>\n",
              "      <th>team</th>\n",
              "      <th>conf</th>\n",
              "      <th>GP</th>\n",
              "      <th>Min_per</th>\n",
              "      <th>Ortg</th>\n",
              "      <th>usg</th>\n",
              "      <th>eFG</th>\n",
              "      <th>TS_per</th>\n",
              "      <th>ORB_per</th>\n",
              "      <th>...</th>\n",
              "      <th>dgbpm</th>\n",
              "      <th>oreb</th>\n",
              "      <th>dreb</th>\n",
              "      <th>treb</th>\n",
              "      <th>ast</th>\n",
              "      <th>stl</th>\n",
              "      <th>blk</th>\n",
              "      <th>pts</th>\n",
              "      <th>Unnamed: 64</th>\n",
              "      <th>Unnamed: 65</th>\n",
              "    </tr>\n",
              "  </thead>\n",
              "  <tbody>\n",
              "    <tr>\n",
              "      <th>0</th>\n",
              "      <td>DeAndrae Ross</td>\n",
              "      <td>South Alabama</td>\n",
              "      <td>SB</td>\n",
              "      <td>26</td>\n",
              "      <td>29.5</td>\n",
              "      <td>97.3</td>\n",
              "      <td>16.6</td>\n",
              "      <td>42.5</td>\n",
              "      <td>44.43</td>\n",
              "      <td>1.6</td>\n",
              "      <td>...</td>\n",
              "      <td>-1.941150</td>\n",
              "      <td>0.1923</td>\n",
              "      <td>0.6154</td>\n",
              "      <td>0.8077</td>\n",
              "      <td>1.1923</td>\n",
              "      <td>0.3462</td>\n",
              "      <td>0.0385</td>\n",
              "      <td>3.8846</td>\n",
              "      <td>NaN</td>\n",
              "      <td>6.22026</td>\n",
              "    </tr>\n",
              "    <tr>\n",
              "      <th>1</th>\n",
              "      <td>Pooh Williams</td>\n",
              "      <td>Utah St.</td>\n",
              "      <td>WAC</td>\n",
              "      <td>34</td>\n",
              "      <td>60.9</td>\n",
              "      <td>108.3</td>\n",
              "      <td>14.9</td>\n",
              "      <td>52.4</td>\n",
              "      <td>54.48</td>\n",
              "      <td>3.8</td>\n",
              "      <td>...</td>\n",
              "      <td>-0.247934</td>\n",
              "      <td>0.6765</td>\n",
              "      <td>1.2647</td>\n",
              "      <td>1.9412</td>\n",
              "      <td>1.8235</td>\n",
              "      <td>0.4118</td>\n",
              "      <td>0.2353</td>\n",
              "      <td>5.9412</td>\n",
              "      <td>NaN</td>\n",
              "      <td>3.94375</td>\n",
              "    </tr>\n",
              "    <tr>\n",
              "      <th>2</th>\n",
              "      <td>Jesus Verdejo</td>\n",
              "      <td>South Florida</td>\n",
              "      <td>BE</td>\n",
              "      <td>27</td>\n",
              "      <td>72.0</td>\n",
              "      <td>96.2</td>\n",
              "      <td>21.8</td>\n",
              "      <td>45.7</td>\n",
              "      <td>47.98</td>\n",
              "      <td>2.1</td>\n",
              "      <td>...</td>\n",
              "      <td>-0.883163</td>\n",
              "      <td>0.6296</td>\n",
              "      <td>2.3333</td>\n",
              "      <td>2.9630</td>\n",
              "      <td>1.9630</td>\n",
              "      <td>0.4815</td>\n",
              "      <td>0.0000</td>\n",
              "      <td>12.1852</td>\n",
              "      <td>NaN</td>\n",
              "      <td>10.92680</td>\n",
              "    </tr>\n",
              "    <tr>\n",
              "      <th>3</th>\n",
              "      <td>Mike Hornbuckle</td>\n",
              "      <td>Pepperdine</td>\n",
              "      <td>WCC</td>\n",
              "      <td>30</td>\n",
              "      <td>44.5</td>\n",
              "      <td>97.7</td>\n",
              "      <td>16.0</td>\n",
              "      <td>53.6</td>\n",
              "      <td>53.69</td>\n",
              "      <td>4.1</td>\n",
              "      <td>...</td>\n",
              "      <td>-0.393459</td>\n",
              "      <td>0.7000</td>\n",
              "      <td>1.4333</td>\n",
              "      <td>2.1333</td>\n",
              "      <td>1.1000</td>\n",
              "      <td>0.5667</td>\n",
              "      <td>0.1333</td>\n",
              "      <td>4.9333</td>\n",
              "      <td>NaN</td>\n",
              "      <td>6.77427</td>\n",
              "    </tr>\n",
              "    <tr>\n",
              "      <th>4</th>\n",
              "      <td>Anthony Brown</td>\n",
              "      <td>Pacific</td>\n",
              "      <td>BW</td>\n",
              "      <td>33</td>\n",
              "      <td>56.2</td>\n",
              "      <td>96.5</td>\n",
              "      <td>22.0</td>\n",
              "      <td>52.8</td>\n",
              "      <td>54.31</td>\n",
              "      <td>8.3</td>\n",
              "      <td>...</td>\n",
              "      <td>-0.668318</td>\n",
              "      <td>1.4242</td>\n",
              "      <td>3.3030</td>\n",
              "      <td>4.7273</td>\n",
              "      <td>0.8485</td>\n",
              "      <td>0.4545</td>\n",
              "      <td>0.3333</td>\n",
              "      <td>7.5758</td>\n",
              "      <td>NaN</td>\n",
              "      <td>0.00000</td>\n",
              "    </tr>\n",
              "  </tbody>\n",
              "</table>\n",
              "<p>5 rows × 66 columns</p>\n",
              "</div>\n",
              "    <div class=\"colab-df-buttons\">\n",
              "\n",
              "  <div class=\"colab-df-container\">\n",
              "    <button class=\"colab-df-convert\" onclick=\"convertToInteractive('df-639c07f6-9364-44c6-b3f0-148ce5124b8a')\"\n",
              "            title=\"Convert this dataframe to an interactive table.\"\n",
              "            style=\"display:none;\">\n",
              "\n",
              "  <svg xmlns=\"http://www.w3.org/2000/svg\" height=\"24px\" viewBox=\"0 -960 960 960\">\n",
              "    <path d=\"M120-120v-720h720v720H120Zm60-500h600v-160H180v160Zm220 220h160v-160H400v160Zm0 220h160v-160H400v160ZM180-400h160v-160H180v160Zm440 0h160v-160H620v160ZM180-180h160v-160H180v160Zm440 0h160v-160H620v160Z\"/>\n",
              "  </svg>\n",
              "    </button>\n",
              "\n",
              "  <style>\n",
              "    .colab-df-container {\n",
              "      display:flex;\n",
              "      gap: 12px;\n",
              "    }\n",
              "\n",
              "    .colab-df-convert {\n",
              "      background-color: #E8F0FE;\n",
              "      border: none;\n",
              "      border-radius: 50%;\n",
              "      cursor: pointer;\n",
              "      display: none;\n",
              "      fill: #1967D2;\n",
              "      height: 32px;\n",
              "      padding: 0 0 0 0;\n",
              "      width: 32px;\n",
              "    }\n",
              "\n",
              "    .colab-df-convert:hover {\n",
              "      background-color: #E2EBFA;\n",
              "      box-shadow: 0px 1px 2px rgba(60, 64, 67, 0.3), 0px 1px 3px 1px rgba(60, 64, 67, 0.15);\n",
              "      fill: #174EA6;\n",
              "    }\n",
              "\n",
              "    .colab-df-buttons div {\n",
              "      margin-bottom: 4px;\n",
              "    }\n",
              "\n",
              "    [theme=dark] .colab-df-convert {\n",
              "      background-color: #3B4455;\n",
              "      fill: #D2E3FC;\n",
              "    }\n",
              "\n",
              "    [theme=dark] .colab-df-convert:hover {\n",
              "      background-color: #434B5C;\n",
              "      box-shadow: 0px 1px 3px 1px rgba(0, 0, 0, 0.15);\n",
              "      filter: drop-shadow(0px 1px 2px rgba(0, 0, 0, 0.3));\n",
              "      fill: #FFFFFF;\n",
              "    }\n",
              "  </style>\n",
              "\n",
              "    <script>\n",
              "      const buttonEl =\n",
              "        document.querySelector('#df-639c07f6-9364-44c6-b3f0-148ce5124b8a button.colab-df-convert');\n",
              "      buttonEl.style.display =\n",
              "        google.colab.kernel.accessAllowed ? 'block' : 'none';\n",
              "\n",
              "      async function convertToInteractive(key) {\n",
              "        const element = document.querySelector('#df-639c07f6-9364-44c6-b3f0-148ce5124b8a');\n",
              "        const dataTable =\n",
              "          await google.colab.kernel.invokeFunction('convertToInteractive',\n",
              "                                                    [key], {});\n",
              "        if (!dataTable) return;\n",
              "\n",
              "        const docLinkHtml = 'Like what you see? Visit the ' +\n",
              "          '<a target=\"_blank\" href=https://colab.research.google.com/notebooks/data_table.ipynb>data table notebook</a>'\n",
              "          + ' to learn more about interactive tables.';\n",
              "        element.innerHTML = '';\n",
              "        dataTable['output_type'] = 'display_data';\n",
              "        await google.colab.output.renderOutput(dataTable, element);\n",
              "        const docLink = document.createElement('div');\n",
              "        docLink.innerHTML = docLinkHtml;\n",
              "        element.appendChild(docLink);\n",
              "      }\n",
              "    </script>\n",
              "  </div>\n",
              "\n",
              "\n",
              "<div id=\"df-e30bee89-700d-4581-99ee-4637d7c32884\">\n",
              "  <button class=\"colab-df-quickchart\" onclick=\"quickchart('df-e30bee89-700d-4581-99ee-4637d7c32884')\"\n",
              "            title=\"Suggest charts\"\n",
              "            style=\"display:none;\">\n",
              "\n",
              "<svg xmlns=\"http://www.w3.org/2000/svg\" height=\"24px\"viewBox=\"0 0 24 24\"\n",
              "     width=\"24px\">\n",
              "    <g>\n",
              "        <path d=\"M19 3H5c-1.1 0-2 .9-2 2v14c0 1.1.9 2 2 2h14c1.1 0 2-.9 2-2V5c0-1.1-.9-2-2-2zM9 17H7v-7h2v7zm4 0h-2V7h2v10zm4 0h-2v-4h2v4z\"/>\n",
              "    </g>\n",
              "</svg>\n",
              "  </button>\n",
              "\n",
              "<style>\n",
              "  .colab-df-quickchart {\n",
              "      --bg-color: #E8F0FE;\n",
              "      --fill-color: #1967D2;\n",
              "      --hover-bg-color: #E2EBFA;\n",
              "      --hover-fill-color: #174EA6;\n",
              "      --disabled-fill-color: #AAA;\n",
              "      --disabled-bg-color: #DDD;\n",
              "  }\n",
              "\n",
              "  [theme=dark] .colab-df-quickchart {\n",
              "      --bg-color: #3B4455;\n",
              "      --fill-color: #D2E3FC;\n",
              "      --hover-bg-color: #434B5C;\n",
              "      --hover-fill-color: #FFFFFF;\n",
              "      --disabled-bg-color: #3B4455;\n",
              "      --disabled-fill-color: #666;\n",
              "  }\n",
              "\n",
              "  .colab-df-quickchart {\n",
              "    background-color: var(--bg-color);\n",
              "    border: none;\n",
              "    border-radius: 50%;\n",
              "    cursor: pointer;\n",
              "    display: none;\n",
              "    fill: var(--fill-color);\n",
              "    height: 32px;\n",
              "    padding: 0;\n",
              "    width: 32px;\n",
              "  }\n",
              "\n",
              "  .colab-df-quickchart:hover {\n",
              "    background-color: var(--hover-bg-color);\n",
              "    box-shadow: 0 1px 2px rgba(60, 64, 67, 0.3), 0 1px 3px 1px rgba(60, 64, 67, 0.15);\n",
              "    fill: var(--button-hover-fill-color);\n",
              "  }\n",
              "\n",
              "  .colab-df-quickchart-complete:disabled,\n",
              "  .colab-df-quickchart-complete:disabled:hover {\n",
              "    background-color: var(--disabled-bg-color);\n",
              "    fill: var(--disabled-fill-color);\n",
              "    box-shadow: none;\n",
              "  }\n",
              "\n",
              "  .colab-df-spinner {\n",
              "    border: 2px solid var(--fill-color);\n",
              "    border-color: transparent;\n",
              "    border-bottom-color: var(--fill-color);\n",
              "    animation:\n",
              "      spin 1s steps(1) infinite;\n",
              "  }\n",
              "\n",
              "  @keyframes spin {\n",
              "    0% {\n",
              "      border-color: transparent;\n",
              "      border-bottom-color: var(--fill-color);\n",
              "      border-left-color: var(--fill-color);\n",
              "    }\n",
              "    20% {\n",
              "      border-color: transparent;\n",
              "      border-left-color: var(--fill-color);\n",
              "      border-top-color: var(--fill-color);\n",
              "    }\n",
              "    30% {\n",
              "      border-color: transparent;\n",
              "      border-left-color: var(--fill-color);\n",
              "      border-top-color: var(--fill-color);\n",
              "      border-right-color: var(--fill-color);\n",
              "    }\n",
              "    40% {\n",
              "      border-color: transparent;\n",
              "      border-right-color: var(--fill-color);\n",
              "      border-top-color: var(--fill-color);\n",
              "    }\n",
              "    60% {\n",
              "      border-color: transparent;\n",
              "      border-right-color: var(--fill-color);\n",
              "    }\n",
              "    80% {\n",
              "      border-color: transparent;\n",
              "      border-right-color: var(--fill-color);\n",
              "      border-bottom-color: var(--fill-color);\n",
              "    }\n",
              "    90% {\n",
              "      border-color: transparent;\n",
              "      border-bottom-color: var(--fill-color);\n",
              "    }\n",
              "  }\n",
              "</style>\n",
              "\n",
              "  <script>\n",
              "    async function quickchart(key) {\n",
              "      const quickchartButtonEl =\n",
              "        document.querySelector('#' + key + ' button');\n",
              "      quickchartButtonEl.disabled = true;  // To prevent multiple clicks.\n",
              "      quickchartButtonEl.classList.add('colab-df-spinner');\n",
              "      try {\n",
              "        const charts = await google.colab.kernel.invokeFunction(\n",
              "            'suggestCharts', [key], {});\n",
              "      } catch (error) {\n",
              "        console.error('Error during call to suggestCharts:', error);\n",
              "      }\n",
              "      quickchartButtonEl.classList.remove('colab-df-spinner');\n",
              "      quickchartButtonEl.classList.add('colab-df-quickchart-complete');\n",
              "    }\n",
              "    (() => {\n",
              "      let quickchartButtonEl =\n",
              "        document.querySelector('#df-e30bee89-700d-4581-99ee-4637d7c32884 button');\n",
              "      quickchartButtonEl.style.display =\n",
              "        google.colab.kernel.accessAllowed ? 'block' : 'none';\n",
              "    })();\n",
              "  </script>\n",
              "</div>\n",
              "    </div>\n",
              "  </div>\n"
            ]
          },
          "metadata": {},
          "execution_count": 32
        }
      ]
    },
    {
      "cell_type": "markdown",
      "source": [
        "0 means undrafted, 1 means drafted"
      ],
      "metadata": {
        "id": "aYTvp-HZIUXs"
      }
    },
    {
      "cell_type": "code",
      "source": [
        "\n",
        "#fulldata.columns\n",
        "fulldata['drafted'] = 0\n",
        "fulldata.loc[~pd.isna(fulldata['pick']), 'drafted'] = 1\n",
        "fulldata = fulldata.fillna(-1);\n",
        "print(fulldata['drafted'].value_counts())\n",
        "#fulldata[~pd.isna(fulldata['pick'])]"
      ],
      "metadata": {
        "colab": {
          "base_uri": "https://localhost:8080/"
        },
        "id": "GuL7ubvUiFAq",
        "outputId": "23853e12-05c3-4c52-d497-adb98851b7ee"
      },
      "execution_count": 33,
      "outputs": [
        {
          "output_type": "stream",
          "name": "stdout",
          "text": [
            "0    59626\n",
            "1     1435\n",
            "Name: drafted, dtype: int64\n"
          ]
        }
      ]
    },
    {
      "cell_type": "code",
      "source": [
        "cut = 1\n",
        "# CHANGE var cut to filter undrafted DATA\n",
        "newData = fulldata.loc[fulldata['drafted'] == 1]\n",
        "newData2 = fulldata.loc[fulldata['drafted'] == 0]\n",
        "newData3 = newData2[newData2.index % cut == 0]\n",
        "fulldata = pd.concat([newData, newData3], ignore_index = True)"
      ],
      "metadata": {
        "id": "uQYFpZX66gvg"
      },
      "execution_count": 34,
      "outputs": []
    },
    {
      "cell_type": "markdown",
      "source": [
        "Filtering data is necessary. Unfilted data has ~20% accuracy. Removing 97% of undrafted players results in an accuracy of ~33%."
      ],
      "metadata": {
        "id": "2ssOmFUsI59y"
      }
    },
    {
      "cell_type": "code",
      "source": [
        "y = fulldata['drafted']\n",
        "#DATA FORMATTING\n",
        "x = fulldata\n",
        "x = x.drop('pick', axis = 1)\n",
        "x = x.drop('drafted', axis = 1)\n",
        "x = x.drop('player_name', axis = 1)\n",
        "x = x.drop('conf', axis = 1)\n",
        "x = x.drop('team', axis = 1)\n",
        "x = x.drop('Unnamed: 64', axis = 1)\n",
        "x = x.drop('yr', axis = 1)\n",
        "x = x.drop('type', axis = 1)\n",
        "x = x.drop('ht', axis = 1)\n",
        "x = x.drop('num', axis = 1)"
      ],
      "metadata": {
        "id": "HS4odwfVxv9h"
      },
      "execution_count": 36,
      "outputs": []
    },
    {
      "cell_type": "markdown",
      "source": [
        "TRAINING MODEL"
      ],
      "metadata": {
        "id": "W_wXmtNFInpk"
      }
    },
    {
      "cell_type": "code",
      "source": [
        "#print(fulldata)\n",
        "print(y.value_counts())\n",
        "X_train, X_test, y_train, y_test = train_test_split(x, y, test_size=0.1, random_state=69)"
      ],
      "metadata": {
        "colab": {
          "base_uri": "https://localhost:8080/"
        },
        "id": "149tlecpitkF",
        "outputId": "e35c24e2-bff4-4d58-c811-e9b95b6d7c0e"
      },
      "execution_count": 37,
      "outputs": [
        {
          "output_type": "stream",
          "name": "stdout",
          "text": [
            "0    59626\n",
            "1     1435\n",
            "Name: drafted, dtype: int64\n"
          ]
        }
      ]
    },
    {
      "cell_type": "code",
      "source": [
        "model.fit(X_train, y_train)\n",
        "y_pred = model.predict(X_test)\n",
        "accuracy = accuracy_score(y_test, y_pred)\n",
        "print(round(accuracy, 5), \"%\")"
      ],
      "metadata": {
        "colab": {
          "base_uri": "https://localhost:8080/"
        },
        "id": "JQ_o1np2am_Y",
        "outputId": "29ee1d97-3dc0-41e8-fed0-284401242fc8"
      },
      "execution_count": 38,
      "outputs": [
        {
          "output_type": "stream",
          "name": "stdout",
          "text": [
            "0.97593 %\n"
          ]
        }
      ]
    },
    {
      "cell_type": "markdown",
      "source": [
        "^^ **THIS ACCURACY IS MISLEADING**.\n",
        "\n",
        "BELOW: Stats and real accuracy"
      ],
      "metadata": {
        "id": "ok9fz-1FItbh"
      }
    },
    {
      "cell_type": "code",
      "source": [
        "unique, frequency = np.unique(y_test,\n",
        "                              return_counts = True)\n",
        "print(\"Unique Values:\", unique)\n",
        "\n",
        "print(\"Testing Frequency Values:\", frequency)\n",
        "total = frequency[0] + frequency[1]\n",
        "testFrequency = frequency[1]\n",
        "print(\"Total:\", total)\n",
        "print(\"0 %:\", round(frequency[0] / total, 2))\n",
        "print(\"1 %:\", round(frequency[1] / total, 2))"
      ],
      "metadata": {
        "colab": {
          "base_uri": "https://localhost:8080/"
        },
        "id": "Sg-80-2t815W",
        "outputId": "1ba9de42-a6e4-4116-ac4a-25ec5251c38d"
      },
      "execution_count": 39,
      "outputs": [
        {
          "output_type": "stream",
          "name": "stdout",
          "text": [
            "Unique Values: [0 1]\n",
            "Testing Frequency Values: [5967  140]\n",
            "Total: 6107\n",
            "0 %: 0.98\n",
            "1 %: 0.02\n"
          ]
        }
      ]
    },
    {
      "cell_type": "code",
      "source": [
        "unique, frequency = np.unique(y_pred,\n",
        "                              return_counts = True)\n",
        "print(\"Unique Values:\", unique)\n",
        "\n",
        "print(\"Prediction Frequency Values:\", frequency)\n",
        "total = frequency[0] + frequency[1]\n",
        "print(\"Total:\", total)\n",
        "print(\"0 %:\", round(frequency[0] / total, 2))\n",
        "print(\"1 %:\", round(frequency[1] / total, 2))"
      ],
      "metadata": {
        "colab": {
          "base_uri": "https://localhost:8080/"
        },
        "id": "FD4LCIK93C8l",
        "outputId": "4ce2bb17-fcb0-4af5-9ae6-9e112b912435"
      },
      "execution_count": 40,
      "outputs": [
        {
          "output_type": "stream",
          "name": "stdout",
          "text": [
            "Unique Values: [0 1]\n",
            "Prediction Frequency Values: [6078   29]\n",
            "Total: 6107\n",
            "0 %: 1.0\n",
            "1 %: 0.0\n"
          ]
        }
      ]
    },
    {
      "cell_type": "code",
      "source": [
        "print(\"Accuracy:\", round(frequency[1] * 100 / testFrequency, 4), \"%\")\n"
      ],
      "metadata": {
        "colab": {
          "base_uri": "https://localhost:8080/"
        },
        "id": "Xu0_06FBHqMM",
        "outputId": "adb08e13-4f06-4154-db39-540018370c4c"
      },
      "execution_count": 41,
      "outputs": [
        {
          "output_type": "stream",
          "name": "stdout",
          "text": [
            "Accuracy: 20.7143 %\n"
          ]
        }
      ]
    }
  ]
}
